{
 "cells": [
  {
   "cell_type": "markdown",
   "metadata": {},
   "source": [
    "# The spelled-out intro to language modeling: building makemore 기초 추가 \n",
    "\n"
   ]
  },
  {
   "cell_type": "markdown",
   "metadata": {},
   "source": [
    "## Pytorch matrix 예시 코드 \n"
   ]
  },
  {
   "cell_type": "code",
   "execution_count": 23,
   "metadata": {},
   "outputs": [
    {
     "name": "stdout",
     "output_type": "stream",
     "text": [
      "[(1, 'a'), (2, 'b'), (3, 'c')]\n"
     ]
    }
   ],
   "source": [
    "# zip 코드 예시 \n",
    "import torch \n",
    "list1 = [1, 2, 3]\n",
    "list2 = ['a', 'b', 'c'] #만약 list2 = ['a','b','c','d']와 같이 행의 수가 맞지 않으면 합치지 않는다. \n",
    "result1 = zip(list1,list2)  #dtype = zip \n",
    "result2 = list(zip(list1, list2)) #dtype = list  #list로 바꿔야함 아니면 안보임 \n",
    "print(result2)  # [(1, 'a'), (2, 'b'), (3, 'c')] # "
   ]
  },
  {
   "cell_type": "code",
   "execution_count": 42,
   "metadata": {},
   "outputs": [
    {
     "name": "stdout",
     "output_type": "stream",
     "text": [
      "Alice\n",
      "0\n"
     ]
    }
   ],
   "source": [
    "# get 함수 예시 \n",
    "my_dict = {'name': 'Alice', 'age': 25}\n",
    "\n",
    "# 키가 있는 경우\n",
    "name = my_dict.get('name')\n",
    "print(name)  # 출력: Alice\n",
    "\n",
    "# 키가 없는 경우 (기본값으로 None 반환)\n",
    "height = my_dict.get('height',0)\n",
    "print(height)  # 출력: None\n"
   ]
  },
  {
   "cell_type": "code",
   "execution_count": 44,
   "metadata": {},
   "outputs": [],
   "source": [
    "b = {}\n",
    "words= ['emma' , 'chorsl' , 'adsnfadf','em2a' ]\n",
    "for w in words: \n",
    "    chs = ['.'] + list(w) + ['.']\n",
    "    for ch1, ch2 in zip (chs, chs[1:]): \n",
    "        bigram = (ch1,ch2)\n",
    "        b[bigram] = b.get(bigram,0)+ 1"
   ]
  },
  {
   "cell_type": "code",
   "execution_count": 29,
   "metadata": {},
   "outputs": [
    {
     "name": "stdout",
     "output_type": "stream",
     "text": [
      "torch.Size([3])\n"
     ]
    }
   ],
   "source": [
    "import torch\n",
    "\n",
    "list1 = [1, 2, 3]\n",
    "list2 = ['a', 'b', 'c']\n",
    "\n",
    "# zip() 결과 생성\n",
    "result = list(zip(list1, list2))  # [(1, 'a'), (2, 'b'), (3, 'c')]\n",
    "\n",
    "# 숫자만을 사용하여 텐서로 변환하기 위해 list1만 사용\n",
    "tensor_result = torch.tensor(list1)  # torch.Tensor로 변환\n",
    "\n",
    "# 텐서의 shape 확인\n",
    "print(tensor_result.shape)  # torch.Size([3])\n"
   ]
  },
  {
   "cell_type": "code",
   "execution_count": 34,
   "metadata": {},
   "outputs": [
    {
     "data": {
      "text/plain": [
       "tensor([1, 2, 3])"
      ]
     },
     "execution_count": 34,
     "metadata": {},
     "output_type": "execute_result"
    }
   ],
   "source": [
    "tensor_result"
   ]
  },
  {
   "cell_type": "code",
   "execution_count": 74,
   "metadata": {},
   "outputs": [
    {
     "name": "stdout",
     "output_type": "stream",
     "text": [
      "tensor([1., 2., 3.])\n",
      "torch.float32\n"
     ]
    }
   ],
   "source": [
    "a = torch.tensor(list1)  # 기본적으로 int64 ,torch.Tensor = dtype float 32\n",
    "a_float = a.float()  # float32로 변환\n",
    "\n",
    "print(a_float)\n",
    "print(a_float.dtype)  # torch.float32"
   ]
  },
  {
   "cell_type": "code",
   "execution_count": 50,
   "metadata": {},
   "outputs": [
    {
     "data": {
      "text/plain": [
       "torch.float32"
      ]
     },
     "execution_count": 50,
     "metadata": {},
     "output_type": "execute_result"
    }
   ],
   "source": [
    "N = torch.zeros(27,27, dtype = torch.int32) #default = torch.float32  보통 학습을 시킬 떄는 float32를 사용 but label하기 위해서는 int 사용 \n",
    "N.dtype"
   ]
  }
 ],
 "metadata": {
  "kernelspec": {
   "display_name": "Python 3",
   "language": "python",
   "name": "python3"
  },
  "language_info": {
   "codemirror_mode": {
    "name": "ipython",
    "version": 3
   },
   "file_extension": ".py",
   "mimetype": "text/x-python",
   "name": "python",
   "nbconvert_exporter": "python",
   "pygments_lexer": "ipython3",
   "version": "3.11.5"
  }
 },
 "nbformat": 4,
 "nbformat_minor": 2
}
